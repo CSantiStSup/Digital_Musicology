{
 "cells": [
  {
   "cell_type": "code",
   "execution_count": 7,
   "metadata": {
    "collapsed": true
   },
   "outputs": [],
   "source": [
    "import requests\n",
    "from bs4 import BeautifulSoup\n",
    "import json\n",
    "import re\n",
    "import numpy as np\n",
    "import matplotlib.pyplot as plt\n",
    "import pandas as pd\n",
    "import ast"
   ]
  },
  {
   "cell_type": "code",
   "execution_count": 2,
   "metadata": {
    "collapsed": true
   },
   "outputs": [],
   "source": [
    "df = pd.read_pickle('Data/ug_dataset.pkl')"
   ]
  },
  {
   "cell_type": "code",
   "execution_count": 16,
   "metadata": {},
   "outputs": [
    {
     "data": {
      "text/plain": [
       "'https://tabs.ultimate-guitar.com/tab/slightly_stoopid/2_am_chords_940253'"
      ]
     },
     "execution_count": 16,
     "metadata": {},
     "output_type": "execute_result"
    }
   ],
   "source": [
    "df.loc[4174].URL"
   ]
  },
  {
   "cell_type": "code",
   "execution_count": 17,
   "metadata": {},
   "outputs": [
    {
     "data": {
      "text/plain": [
       "0       [I heard there was a secret chord, That David ...\n",
       "1       [Intro Tab (relative to Capo):, Well you done ...\n",
       "2       [Today is gonna be the day, That they're gonna...\n",
       "3       [So, so you think you can tell,, Heaven from H...\n",
       "4       [Capo 4, Strumming pattern:D _ D U D U D U, Yo...\n",
       "5       [    Today is gonna be the day , That they're ...\n",
       "6       [CAPO ON 4TH FRET,    , When I was younger I s...\n",
       "7       [We were both young when I first saw you, I cl...\n",
       "8       [And I'd give up forever to touch you, 'Cause ...\n",
       "9       [When I find myself in times of trouble, Mothe...\n",
       "10      [When you were here before, couldn't look you ...\n",
       "11      [I used to rule the world , Seas would rise wh...\n",
       "12      [Well, you done done me in; you bet I felt it....\n",
       "13      [Strumming pattern:, Slip inside the eye of yo...\n",
       "14      [Hey there Delilah, What’s it like in New York...\n",
       "15      [Note about strumming patterns: the intro of t...\n",
       "16      [*C = g+c+e+g , *F = inversion of F => cfa , (...\n",
       "17      [Can’t Help Falling In Love With You chords, E...\n",
       "18      [  (background part), Lately, I've been, I've ...\n",
       "19      [Capo 4th fret, You're on the phone with your ...\n",
       "20      [I'm still alive but I'm barely breathing, Jus...\n",
       "21      [Another turning point a fork stuck in the roa...\n",
       "22      [I walk a lonely road, the only one that I hav...\n",
       "23      [Say something, I'm giving up on you., I'll be...\n",
       "24      [Robert's got a quick hand, He'll look around ...\n",
       "25      [My life is brilliant., My life is brilliant.,...\n",
       "26      [We'll do it all, everything, on our own., We ...\n",
       "27      [Edited by UG user maguri   , John Lennon, Ima...\n",
       "28      [Oooahhh OOaaaahh ahhhhh, Oooahhh OOaaaahh ahh...\n",
       "29      [Going back to the corner where I first saw yo...\n",
       "                              ...                        \n",
       "5170    [Timing: 110 BPM 4/4 (Each line represents a b...\n",
       "5171    [Tabbed By : Aeonoptic, Tuning: E Standard, Ch...\n",
       "5172    [======, SPLASH, ======, Album: african space ...\n",
       "5173    [Tabbed by: Dave S. , Tuning: Standard, Hey he...\n",
       "5174    [Capo: 4th Fret, I'm going round the corner, T...\n",
       "5175    [JUMPING AT SHADOWS, (Duster Bennett), From Ju...\n",
       "5176    [LONG GREY MARE, (Peter Green), From Peter Gre...\n",
       "5177    [Why won't you give me the time of day?, Tell ...\n",
       "5178    [Tuned open G (DGDGBD), Crow Janie, Crow Janie...\n",
       "5179    [Till We Get the Healing Done, Van Morrison, C...\n",
       "5180    [Okay, so the other versions of this song are ...\n",
       "5181    [The Rolling Stones, Blues And Lonesome, 2016,...\n",
       "5182    [Tabbed by Fallsy, std tune, Buy you a watch a...\n",
       "5183    [Salut à tous ! , Je ne pense pas que ce soit ...\n",
       "5184    [Say, \"That Big Bend Tunnel on that C &amp; O ...\n",
       "5185    [The Rolling Stones, Blues And Lonesome (2016)...\n",
       "5186    [From the album \"The Heart of Saturday Night\",...\n",
       "5187    [Baby, please stop messin' round, you're messi...\n",
       "5188    [Album : Alvin Lee and Company (1972), Tempo :...\n",
       "5189    [Goin' down this road now feelin' bad, baby, G...\n",
       "5190    [I want to tell about my baby, speak of her wi...\n",
       "5191    [Artist:   Taj Mahal, Band:     Taj Mahal Trio...\n",
       "5192    [Well, my bucket's got a hole in it, My bucket...\n",
       "5193    [ They say time,  heals the broken   heart,  d...\n",
       "5194    [Walk down the C  C/B to Am in every verse, Oh...\n",
       "5195    [Sittin' On Top Of The World, Recorded by Bob ...\n",
       "5196    [Too Long in Exile, Too long in exile, Too lon...\n",
       "5197    [Blues in E, Intro (2x), Verses, You should ha...\n",
       "5198    [Oh Lawd, Lawdy Lawd, ,   it hurts me so bad, ...\n",
       "5199    [It's the sugar so sweet, Kind I like to, meet...\n",
       "Name: Lyrics, Length: 5200, dtype: object"
      ]
     },
     "execution_count": 17,
     "metadata": {},
     "output_type": "execute_result"
    }
   ],
   "source": [
    "df.Chords"
   ]
  },
  {
   "cell_type": "code",
   "execution_count": null,
   "metadata": {
    "collapsed": true
   },
   "outputs": [],
   "source": []
  }
 ],
 "metadata": {
  "kernelspec": {
   "display_name": "Python 3",
   "language": "python",
   "name": "python3"
  },
  "language_info": {
   "codemirror_mode": {
    "name": "ipython",
    "version": 3
   },
   "file_extension": ".py",
   "mimetype": "text/x-python",
   "name": "python",
   "nbconvert_exporter": "python",
   "pygments_lexer": "ipython3",
   "version": "3.6.3"
  }
 },
 "nbformat": 4,
 "nbformat_minor": 2
}
