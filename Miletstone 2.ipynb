{
 "cells": [
  {
   "cell_type": "markdown",
   "metadata": {},
   "source": [
    "# Milestone 2 : Data gathering, preprocessing and basis statistics\n",
    "\n"
   ]
  },
  {
   "cell_type": "code",
   "execution_count": 1,
   "metadata": {},
   "outputs": [],
   "source": [
    "# Imports\n",
    "import numpy as np\n",
    "import seaborn as sns\n",
    "import pandas as pd\n",
    "import os\n",
    "import fnmatch\n",
    "import glob2\n",
    "import glob\n",
    "from matplotlib import pyplot\n",
    "import numpy as np\n",
    "\n",
    "# Constants\n",
    "DATA_FOLDER = 'Data/'"
   ]
  },
  {
   "cell_type": "code",
   "execution_count": 2,
   "metadata": {},
   "outputs": [
    {
     "data": {
      "text/html": [
       "<div>\n",
       "<style scoped>\n",
       "    .dataframe tbody tr th:only-of-type {\n",
       "        vertical-align: middle;\n",
       "    }\n",
       "\n",
       "    .dataframe tbody tr th {\n",
       "        vertical-align: top;\n",
       "    }\n",
       "\n",
       "    .dataframe thead th {\n",
       "        text-align: right;\n",
       "    }\n",
       "</style>\n",
       "<table border=\"1\" class=\"dataframe\">\n",
       "  <thead>\n",
       "    <tr style=\"text-align: right;\">\n",
       "      <th></th>\n",
       "      <th>0</th>\n",
       "      <th>genre</th>\n",
       "      <th>name_artist</th>\n",
       "    </tr>\n",
       "  </thead>\n",
       "  <tbody>\n",
       "    <tr>\n",
       "      <th>0</th>\n",
       "      <td>Data\\blues\\all_blues-Miles-Davis_dz.mid</td>\n",
       "      <td>blues</td>\n",
       "      <td>all_blues-Miles-Davis_dz</td>\n",
       "    </tr>\n",
       "    <tr>\n",
       "      <th>1</th>\n",
       "      <td>Data\\blues\\between_the_sheets-isley-bros_mlod.mid</td>\n",
       "      <td>blues</td>\n",
       "      <td>between_the_sheets-isley-bros_mlod</td>\n",
       "    </tr>\n",
       "    <tr>\n",
       "      <th>2</th>\n",
       "      <td>Data\\blues\\budapest-George Ezra-kar_rt.mid</td>\n",
       "      <td>blues</td>\n",
       "      <td>budapest-George Ezra-kar_rt</td>\n",
       "    </tr>\n",
       "    <tr>\n",
       "      <th>3</th>\n",
       "      <td>Data\\blues\\dont_say_nothin_bad_about_my_baby-k...</td>\n",
       "      <td>blues</td>\n",
       "      <td>dont_say_nothin_bad_about_my_baby-kar_gr</td>\n",
       "    </tr>\n",
       "    <tr>\n",
       "      <th>4</th>\n",
       "      <td>Data\\blues\\for_your_precious_love_fd.mid</td>\n",
       "      <td>blues</td>\n",
       "      <td>for_your_precious_love_fd</td>\n",
       "    </tr>\n",
       "  </tbody>\n",
       "</table>\n",
       "</div>"
      ],
      "text/plain": [
       "                                                   0  genre  \\\n",
       "0            Data\\blues\\all_blues-Miles-Davis_dz.mid  blues   \n",
       "1  Data\\blues\\between_the_sheets-isley-bros_mlod.mid  blues   \n",
       "2         Data\\blues\\budapest-George Ezra-kar_rt.mid  blues   \n",
       "3  Data\\blues\\dont_say_nothin_bad_about_my_baby-k...  blues   \n",
       "4           Data\\blues\\for_your_precious_love_fd.mid  blues   \n",
       "\n",
       "                                name_artist  \n",
       "0                  all_blues-Miles-Davis_dz  \n",
       "1        between_the_sheets-isley-bros_mlod  \n",
       "2               budapest-George Ezra-kar_rt  \n",
       "3  dont_say_nothin_bad_about_my_baby-kar_gr  \n",
       "4                 for_your_precious_love_fd  "
      ]
     },
     "metadata": {},
     "output_type": "display_data"
    }
   ],
   "source": [
    "#Getting all the data in a DataFrame\n",
    "df = pd.DataFrame(glob.glob(DATA_FOLDER + \"/*/*.mid\"))\n",
    "\n",
    "#Splitting into a more readable format\n",
    "df['genre'] = df[0].str.split('\\\\', expand=True)[1]\n",
    "df['name_artist'] = df[0].str.split('\\\\', expand=True)[2].map(lambda x: str(x)[:-4])\n",
    "\n",
    "\n",
    "display(df.head())"
   ]
  },
  {
   "cell_type": "markdown",
   "metadata": {},
   "source": [
    "One can see that the song's name and the artist's name are separate with a '-'. We must also get rid of the "
   ]
  },
  {
   "cell_type": "code",
   "execution_count": 3,
   "metadata": {},
   "outputs": [],
   "source": [
    "#Splitting\n",
    "df['name'] = df['name_artist'].str.split('-', expand=True)[0]\n",
    "df['artist'] = df['name_artist'].str.partition('-', expand=True)[2]\n",
    "df['extension?'] = df['artist'].str.partition('_', expand=True)[2]\n",
    "df['artist'] = df['artist'].str.split('_', expand=True)[0]\n"
   ]
  },
  {
   "cell_type": "code",
   "execution_count": 4,
   "metadata": {},
   "outputs": [],
   "source": [
    "#Dropping the raw data (in a separate cell to avoid dropping it twice when printing and have errors)\n",
    "df = df.drop([0, 'name_artist'], axis=1)"
   ]
  },
  {
   "cell_type": "code",
   "execution_count": 5,
   "metadata": {},
   "outputs": [
    {
     "data": {
      "text/html": [
       "<div>\n",
       "<style scoped>\n",
       "    .dataframe tbody tr th:only-of-type {\n",
       "        vertical-align: middle;\n",
       "    }\n",
       "\n",
       "    .dataframe tbody tr th {\n",
       "        vertical-align: top;\n",
       "    }\n",
       "\n",
       "    .dataframe thead th {\n",
       "        text-align: right;\n",
       "    }\n",
       "</style>\n",
       "<table border=\"1\" class=\"dataframe\">\n",
       "  <thead>\n",
       "    <tr style=\"text-align: right;\">\n",
       "      <th></th>\n",
       "      <th>genre</th>\n",
       "      <th>name</th>\n",
       "      <th>artist</th>\n",
       "      <th>extension?</th>\n",
       "    </tr>\n",
       "  </thead>\n",
       "  <tbody>\n",
       "    <tr>\n",
       "      <th>0</th>\n",
       "      <td>blues</td>\n",
       "      <td>all_blues</td>\n",
       "      <td>Miles-Davis</td>\n",
       "      <td>dz</td>\n",
       "    </tr>\n",
       "    <tr>\n",
       "      <th>1</th>\n",
       "      <td>blues</td>\n",
       "      <td>between_the_sheets</td>\n",
       "      <td>isley-bros</td>\n",
       "      <td>mlod</td>\n",
       "    </tr>\n",
       "    <tr>\n",
       "      <th>2</th>\n",
       "      <td>blues</td>\n",
       "      <td>budapest</td>\n",
       "      <td>George Ezra-kar</td>\n",
       "      <td>rt</td>\n",
       "    </tr>\n",
       "    <tr>\n",
       "      <th>3</th>\n",
       "      <td>blues</td>\n",
       "      <td>dont_say_nothin_bad_about_my_baby</td>\n",
       "      <td>kar</td>\n",
       "      <td>gr</td>\n",
       "    </tr>\n",
       "    <tr>\n",
       "      <th>4</th>\n",
       "      <td>blues</td>\n",
       "      <td>for_your_precious_love_fd</td>\n",
       "      <td></td>\n",
       "      <td></td>\n",
       "    </tr>\n",
       "    <tr>\n",
       "      <th>5</th>\n",
       "      <td>blues</td>\n",
       "      <td>ghost</td>\n",
       "      <td>Ella Henderson-kar</td>\n",
       "      <td>gc9</td>\n",
       "    </tr>\n",
       "    <tr>\n",
       "      <th>6</th>\n",
       "      <td>blues</td>\n",
       "      <td>good_morning_little_school_girl</td>\n",
       "      <td>kar</td>\n",
       "      <td>gc9</td>\n",
       "    </tr>\n",
       "    <tr>\n",
       "      <th>7</th>\n",
       "      <td>blues</td>\n",
       "      <td>im_your_puppet</td>\n",
       "      <td>kar</td>\n",
       "      <td>gc9</td>\n",
       "    </tr>\n",
       "    <tr>\n",
       "      <th>8</th>\n",
       "      <td>blues</td>\n",
       "      <td>look what youve done for me</td>\n",
       "      <td>Al Green-kar</td>\n",
       "      <td>gc9</td>\n",
       "    </tr>\n",
       "    <tr>\n",
       "      <th>9</th>\n",
       "      <td>blues</td>\n",
       "      <td>my_lovers_prayer</td>\n",
       "      <td>kar</td>\n",
       "      <td>gc9</td>\n",
       "    </tr>\n",
       "  </tbody>\n",
       "</table>\n",
       "</div>"
      ],
      "text/plain": [
       "   genre                               name              artist extension?\n",
       "0  blues                          all_blues         Miles-Davis         dz\n",
       "1  blues                 between_the_sheets          isley-bros       mlod\n",
       "2  blues                           budapest     George Ezra-kar         rt\n",
       "3  blues  dont_say_nothin_bad_about_my_baby                 kar         gr\n",
       "4  blues          for_your_precious_love_fd                               \n",
       "5  blues                              ghost  Ella Henderson-kar        gc9\n",
       "6  blues    good_morning_little_school_girl                 kar        gc9\n",
       "7  blues                     im_your_puppet                 kar        gc9\n",
       "8  blues        look what youve done for me        Al Green-kar        gc9\n",
       "9  blues                   my_lovers_prayer                 kar        gc9"
      ]
     },
     "metadata": {},
     "output_type": "display_data"
    }
   ],
   "source": [
    "#displaying results\n",
    "display(df.head(10))"
   ]
  },
  {
   "cell_type": "code",
   "execution_count": 6,
   "metadata": {},
   "outputs": [
    {
     "data": {
      "text/html": [
       "<div>\n",
       "<style scoped>\n",
       "    .dataframe tbody tr th:only-of-type {\n",
       "        vertical-align: middle;\n",
       "    }\n",
       "\n",
       "    .dataframe tbody tr th {\n",
       "        vertical-align: top;\n",
       "    }\n",
       "\n",
       "    .dataframe thead th {\n",
       "        text-align: right;\n",
       "    }\n",
       "</style>\n",
       "<table border=\"1\" class=\"dataframe\">\n",
       "  <thead>\n",
       "    <tr style=\"text-align: right;\">\n",
       "      <th></th>\n",
       "      <th>genre</th>\n",
       "      <th>name</th>\n",
       "      <th>artist</th>\n",
       "      <th>extension?</th>\n",
       "    </tr>\n",
       "  </thead>\n",
       "  <tbody>\n",
       "    <tr>\n",
       "      <th>0</th>\n",
       "      <td>blues</td>\n",
       "      <td>all_blues</td>\n",
       "      <td>Miles-Davis</td>\n",
       "      <td>dz</td>\n",
       "    </tr>\n",
       "    <tr>\n",
       "      <th>1</th>\n",
       "      <td>blues</td>\n",
       "      <td>between_the_sheets</td>\n",
       "      <td>isley-bros</td>\n",
       "      <td>mlod</td>\n",
       "    </tr>\n",
       "    <tr>\n",
       "      <th>2</th>\n",
       "      <td>blues</td>\n",
       "      <td>budapest</td>\n",
       "      <td>George Ezra-kar</td>\n",
       "      <td>rt</td>\n",
       "    </tr>\n",
       "    <tr>\n",
       "      <th>3</th>\n",
       "      <td>blues</td>\n",
       "      <td>dont_say_nothin_bad_about_my_baby</td>\n",
       "      <td>NaN</td>\n",
       "      <td>gr</td>\n",
       "    </tr>\n",
       "    <tr>\n",
       "      <th>4</th>\n",
       "      <td>blues</td>\n",
       "      <td>for_your_precious_love_fd</td>\n",
       "      <td>NaN</td>\n",
       "      <td></td>\n",
       "    </tr>\n",
       "  </tbody>\n",
       "</table>\n",
       "</div>"
      ],
      "text/plain": [
       "   genre                               name           artist extension?\n",
       "0  blues                          all_blues      Miles-Davis         dz\n",
       "1  blues                 between_the_sheets       isley-bros       mlod\n",
       "2  blues                           budapest  George Ezra-kar         rt\n",
       "3  blues  dont_say_nothin_bad_about_my_baby              NaN         gr\n",
       "4  blues          for_your_precious_love_fd              NaN           "
      ]
     },
     "metadata": {},
     "output_type": "display_data"
    }
   ],
   "source": [
    "#Cleaning the data to get rid of songs with no artists\n",
    "df['artist'] = df['artist'].replace('', np.nan).replace('kar', np.nan)\n",
    "#df = df.dropna()\n",
    "display(df.head())"
   ]
  },
  {
   "cell_type": "code",
   "execution_count": 7,
   "metadata": {},
   "outputs": [
    {
     "data": {
      "image/png": "[encoded data removed]",
      "text/plain": [
       "<matplotlib.figure.Figure at 0x161efaf76d8>"
      ]
     },
     "metadata": {},
     "output_type": "display_data"
    }
   ],
   "source": [
    "sns.set(style=\"darkgrid\")\n",
    "\n",
    "fig, ax1 = pyplot.subplots(figsize=(20, 10))\n",
    "ax1 = sns.countplot(x=\"genre\", data=df)"
   ]
  },
  {
   "cell_type": "markdown",
   "metadata": {},
   "source": [
    "#### Comments on the repartition\n",
    "The strikingly big bias toward jazz in this collection is problematic. This dataset contains"
   ]
  },
  {
   "cell_type": "code",
   "execution_count": null,
   "metadata": {},
   "outputs": [],
   "source": []
  }
 ],
 "metadata": {
  "kernelspec": {
   "display_name": "Python 3",
   "language": "python",
   "name": "python3"
  },
  "language_info": {
   "codemirror_mode": {
    "name": "ipython",
    "version": 3
   },
   "file_extension": ".py",
   "mimetype": "text/x-python",
   "name": "python",
   "nbconvert_exporter": "python",
   "pygments_lexer": "ipython3",
   "version": "3.6.4"
  }
 },
 "nbformat": 4,
 "nbformat_minor": 2
}
