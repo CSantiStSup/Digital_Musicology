{
 "cells": [
  {
   "cell_type": "markdown",
   "metadata": {},
   "source": [
    "# Working with the MIDI data\n",
    "##### Milestone 2 : Data gathering, preprocessing and basis statistics\n",
    "\n",
    "### Data crawling, decisions and strategies\n",
    "\n",
    "By navigating manually into the [130000 unsorted MIDI file dataset](https://www.reddit.com/r/WeAreTheMusicMakers/comments/3ajwe4/the_largest_midi_collection_on_the_internet/) that we found, there was several sub-sections and we looked for one with a structure that could give us ground for our analysis. There were many partly-unamed and unsorted data that we had to remove because we could not find anything meaningful to do with it. Apart from this there were many dataset that were contained inside the zip. There were the following:\n",
    "\n",
    "- [AMERICANA_FOLK](http://www.pdmusic.org/)\n",
    "- [Classical_Guitar](classicalguitarmidi.com)\n",
    "- [Jazz](www.thejazzpage.de)\n",
    "- [Metal_Rock](rock.freemidis.net)\n",
    "- Arabic and Tribal Rhythms\n",
    "- Chords and Circle of fifths\n",
    "- TV_Themeswww.tv-timewarp.co.uk_MIDIRip\n",
    "- Metal_Rock_wolverine-metalmidi.wen.ru_MIDIRip\n",
    "\n",
    "\n",
    "Which were too specific for the work we are trying to achieve. Our goal was to find a set which would treat different genres while being oriented to guitar pieces because we want to combine it with Ultimate Guitar. That is the reason why we chose the [MIDKAR dataset](http://midkar.com/) , providing us material that is guitar-oriented and classified per genre.\n",
    "\n",
    "\n"
   ]
  },
  {
   "cell_type": "code",
   "execution_count": 77,
   "metadata": {},
   "outputs": [],
   "source": [
    "# Imports\n",
    "import numpy as np\n",
    "import seaborn as sns\n",
    "import pandas as pd\n",
    "import os\n",
    "import fnmatch\n",
    "import glob2\n",
    "import glob\n",
    "from matplotlib import pyplot\n",
    "import numpy as np\n",
    "\n",
    "# Constants\n",
    "DATA_FOLDER = 'Data/'"
   ]
  },
  {
   "cell_type": "code",
   "execution_count": 78,
   "metadata": {},
   "outputs": [
    {
     "data": {
      "text/html": [
       "<div>\n",
       "<style scoped>\n",
       "    .dataframe tbody tr th:only-of-type {\n",
       "        vertical-align: middle;\n",
       "    }\n",
       "\n",
       "    .dataframe tbody tr th {\n",
       "        vertical-align: top;\n",
       "    }\n",
       "\n",
       "    .dataframe thead th {\n",
       "        text-align: right;\n",
       "    }\n",
       "</style>\n",
       "<table border=\"1\" class=\"dataframe\">\n",
       "  <thead>\n",
       "    <tr style=\"text-align: right;\">\n",
       "      <th></th>\n",
       "      <th>0</th>\n",
       "      <th>genre</th>\n",
       "      <th>name_artist</th>\n",
       "    </tr>\n",
       "  </thead>\n",
       "  <tbody>\n",
       "    <tr>\n",
       "      <th>0</th>\n",
       "      <td>Data\\blues\\all_blues-Miles-Davis_dz.mid</td>\n",
       "      <td>blues</td>\n",
       "      <td>all_blues-Miles-Davis_dz</td>\n",
       "    </tr>\n",
       "    <tr>\n",
       "      <th>1</th>\n",
       "      <td>Data\\blues\\between_the_sheets-isley-bros_mlod.mid</td>\n",
       "      <td>blues</td>\n",
       "      <td>between_the_sheets-isley-bros_mlod</td>\n",
       "    </tr>\n",
       "    <tr>\n",
       "      <th>2</th>\n",
       "      <td>Data\\blues\\budapest-George Ezra-kar_rt.mid</td>\n",
       "      <td>blues</td>\n",
       "      <td>budapest-George Ezra-kar_rt</td>\n",
       "    </tr>\n",
       "    <tr>\n",
       "      <th>3</th>\n",
       "      <td>Data\\blues\\dont_say_nothin_bad_about_my_baby-k...</td>\n",
       "      <td>blues</td>\n",
       "      <td>dont_say_nothin_bad_about_my_baby-kar_gr</td>\n",
       "    </tr>\n",
       "    <tr>\n",
       "      <th>4</th>\n",
       "      <td>Data\\blues\\for_your_precious_love_fd.mid</td>\n",
       "      <td>blues</td>\n",
       "      <td>for_your_precious_love_fd</td>\n",
       "    </tr>\n",
       "  </tbody>\n",
       "</table>\n",
       "</div>"
      ],
      "text/plain": [
       "                                                   0  genre  \\\n",
       "0            Data\\blues\\all_blues-Miles-Davis_dz.mid  blues   \n",
       "1  Data\\blues\\between_the_sheets-isley-bros_mlod.mid  blues   \n",
       "2         Data\\blues\\budapest-George Ezra-kar_rt.mid  blues   \n",
       "3  Data\\blues\\dont_say_nothin_bad_about_my_baby-k...  blues   \n",
       "4           Data\\blues\\for_your_precious_love_fd.mid  blues   \n",
       "\n",
       "                                name_artist  \n",
       "0                  all_blues-Miles-Davis_dz  \n",
       "1        between_the_sheets-isley-bros_mlod  \n",
       "2               budapest-George Ezra-kar_rt  \n",
       "3  dont_say_nothin_bad_about_my_baby-kar_gr  \n",
       "4                 for_your_precious_love_fd  "
      ]
     },
     "metadata": {},
     "output_type": "display_data"
    }
   ],
   "source": [
    "#Getting all the data in a DataFrame\n",
    "df = pd.DataFrame(glob.glob(DATA_FOLDER + \"/*/*.mid\"))\n",
    "\n",
    "#Splitting into a more readable format\n",
    "df['genre'] = df[0].str.split('\\\\', expand=True)[1]\n",
    "df['name_artist'] = df[0].str.split('\\\\', expand=True)[2].map(lambda x: str(x)[:-4])\n",
    "\n",
    "\n",
    "display(df.head())"
   ]
  },
  {
   "cell_type": "markdown",
   "metadata": {},
   "source": [
    "One can see that the song's name and the artist's name are separate with a '-'. We must also get rid of the "
   ]
  },
  {
   "cell_type": "code",
   "execution_count": 79,
   "metadata": {},
   "outputs": [],
   "source": [
    "#Splitting and sorting\n",
    "df['name'] = df['name_artist'].str.split('-', expand=True)[0]\n",
    "df['artist'] = df['name_artist'].str.partition('-', expand=True)[2]\n",
    "df['artist'] = df['artist'].str.split('_', expand=True)[0]\n"
   ]
  },
  {
   "cell_type": "code",
   "execution_count": 80,
   "metadata": {},
   "outputs": [],
   "source": [
    "#Dropping the raw data (in a separate cell to avoid dropping it twice when printing and have errors)\n",
    "df = df.drop([0, 'name_artist'], axis=1)"
   ]
  },
  {
   "cell_type": "code",
   "execution_count": 81,
   "metadata": {},
   "outputs": [
    {
     "data": {
      "text/html": [
       "<div>\n",
       "<style scoped>\n",
       "    .dataframe tbody tr th:only-of-type {\n",
       "        vertical-align: middle;\n",
       "    }\n",
       "\n",
       "    .dataframe tbody tr th {\n",
       "        vertical-align: top;\n",
       "    }\n",
       "\n",
       "    .dataframe thead th {\n",
       "        text-align: right;\n",
       "    }\n",
       "</style>\n",
       "<table border=\"1\" class=\"dataframe\">\n",
       "  <thead>\n",
       "    <tr style=\"text-align: right;\">\n",
       "      <th></th>\n",
       "      <th>genre</th>\n",
       "      <th>name</th>\n",
       "      <th>artist</th>\n",
       "    </tr>\n",
       "  </thead>\n",
       "  <tbody>\n",
       "    <tr>\n",
       "      <th>0</th>\n",
       "      <td>blues</td>\n",
       "      <td>all_blues</td>\n",
       "      <td>Miles-Davis</td>\n",
       "    </tr>\n",
       "    <tr>\n",
       "      <th>1</th>\n",
       "      <td>blues</td>\n",
       "      <td>between_the_sheets</td>\n",
       "      <td>isley-bros</td>\n",
       "    </tr>\n",
       "    <tr>\n",
       "      <th>2</th>\n",
       "      <td>blues</td>\n",
       "      <td>budapest</td>\n",
       "      <td>George Ezra</td>\n",
       "    </tr>\n",
       "    <tr>\n",
       "      <th>3</th>\n",
       "      <td>blues</td>\n",
       "      <td>dont_say_nothin_bad_about_my_baby</td>\n",
       "      <td>NaN</td>\n",
       "    </tr>\n",
       "    <tr>\n",
       "      <th>4</th>\n",
       "      <td>blues</td>\n",
       "      <td>for_your_precious_love_fd</td>\n",
       "      <td>NaN</td>\n",
       "    </tr>\n",
       "  </tbody>\n",
       "</table>\n",
       "</div>"
      ],
      "text/plain": [
       "   genre                               name       artist\n",
       "0  blues                          all_blues  Miles-Davis\n",
       "1  blues                 between_the_sheets   isley-bros\n",
       "2  blues                           budapest  George Ezra\n",
       "3  blues  dont_say_nothin_bad_about_my_baby          NaN\n",
       "4  blues          for_your_precious_love_fd          NaN"
      ]
     },
     "metadata": {},
     "output_type": "display_data"
    }
   ],
   "source": [
    "#Cleaning the data to get rid of songs with no artists\n",
    "df['artist'] = df['artist'].replace('', np.nan).replace('kar', np.nan).str.replace(\"-kar\", \"\")\n",
    "display(df.head())"
   ]
  },
  {
   "cell_type": "code",
   "execution_count": 82,
   "metadata": {},
   "outputs": [
    {
     "data": {
      "image/png": "[encoded data removed]",
      "text/plain": [
       "<matplotlib.figure.Figure at 0x1ad76bf49e8>"
      ]
     },
     "metadata": {},
     "output_type": "display_data"
    }
   ],
   "source": [
    "#Displaying the different genres\n",
    "sns.set(style=\"darkgrid\")\n",
    "fig, ax1 = pyplot.subplots(figsize=(20, 10))\n",
    "ax1 = sns.countplot(x=\"genre\", data=df)\n",
    "ax1.set_title('Count of songs per genre with artists')\n",
    "pyplot.show()"
   ]
  },
  {
   "cell_type": "markdown",
   "metadata": {},
   "source": [
    "### Comments on the repartition\n",
    "The strikingly big bias toward jazz in this collection is problematic. We will have to pay attention to that when conducting the analysis and reduce the sample size from that genre with respect to others. \n",
    "\n",
    "When dealing with this data, we must consider the fact that many songs have no artists and this might be problematic for further analysis. Let us take a look what the data looks like if we remove the artist-less songs. In addition to this, one could argue that there would be no point to keep the \"misc\" category because of its chaotic nature, one will have trouble to get a genre-based interpretation from this. However if we manage to match it with some Ultimate guitar dataset, it would still be relevant to take it into account, thus why we will keep it. The same remark applies to the \"original\" classification."
   ]
  },
  {
   "cell_type": "code",
   "execution_count": 83,
   "metadata": {},
   "outputs": [],
   "source": [
    "#Removing songs with no artists\n",
    "df2 = df.dropna()"
   ]
  },
  {
   "cell_type": "code",
   "execution_count": 84,
   "metadata": {},
   "outputs": [
    {
     "data": {
      "image/png": "[encoded data removed]",
      "text/plain": [
       "<matplotlib.figure.Figure at 0x1ad768c7240>"
      ]
     },
     "metadata": {},
     "output_type": "display_data"
    }
   ],
   "source": [
    "#Displaying the different genres\n",
    "fig, ax2 = pyplot.subplots(figsize=(20, 10))\n",
    "ax2 = sns.countplot(x=\"genre\", data=df2)\n",
    "ax2.set_title('Count of songs per genre with artists')\n",
    "pyplot.show()"
   ]
  },
  {
   "cell_type": "markdown",
   "metadata": {},
   "source": [
    "##### Comments\n",
    "The representation of the different genres roughly remains the same, expect from \"Resets\" and \"Rhythm Guitar MIDI\" that disappear\n",
    "\n",
    "#### Artist repartion\n",
    "Let us take a look at this aspect of the data, meaning how artists are represented and if there are some over-representations."
   ]
  },
  {
   "cell_type": "code",
   "execution_count": 85,
   "metadata": {},
   "outputs": [
    {
     "data": {
      "text/plain": [
       "count    398.000000\n",
       "mean       1.278894\n",
       "std        0.949669\n",
       "min        1.000000\n",
       "25%        1.000000\n",
       "50%        1.000000\n",
       "75%        1.000000\n",
       "max       10.000000\n",
       "Name: artist, dtype: float64"
      ]
     },
     "metadata": {},
     "output_type": "display_data"
    }
   ],
   "source": [
    "display(df2.artist.value_counts().describe())"
   ]
  },
  {
   "cell_type": "markdown",
   "metadata": {},
   "source": [
    "It seems that there is no strong bias toward a particular artist, no one is present more than ten times and more than 75 percent of artists appear only once.\n",
    "\n",
    "Let's now explore this feature per genre."
   ]
  },
  {
   "cell_type": "code",
   "execution_count": 88,
   "metadata": {},
   "outputs": [
    {
     "data": {
      "text/html": [
       "<div>\n",
       "<style scoped>\n",
       "    .dataframe tbody tr th:only-of-type {\n",
       "        vertical-align: middle;\n",
       "    }\n",
       "\n",
       "    .dataframe tbody tr th {\n",
       "        vertical-align: top;\n",
       "    }\n",
       "\n",
       "    .dataframe thead tr th {\n",
       "        text-align: left;\n",
       "    }\n",
       "\n",
       "    .dataframe thead tr:last-of-type th {\n",
       "        text-align: right;\n",
       "    }\n",
       "</style>\n",
       "<table border=\"1\" class=\"dataframe\">\n",
       "  <thead>\n",
       "    <tr>\n",
       "      <th></th>\n",
       "      <th colspan=\"4\" halign=\"left\">artist</th>\n",
       "      <th colspan=\"4\" halign=\"left\">name</th>\n",
       "    </tr>\n",
       "    <tr>\n",
       "      <th></th>\n",
       "      <th>count</th>\n",
       "      <th>unique</th>\n",
       "      <th>top</th>\n",
       "      <th>freq</th>\n",
       "      <th>count</th>\n",
       "      <th>unique</th>\n",
       "      <th>top</th>\n",
       "      <th>freq</th>\n",
       "    </tr>\n",
       "    <tr>\n",
       "      <th>genre</th>\n",
       "      <th></th>\n",
       "      <th></th>\n",
       "      <th></th>\n",
       "      <th></th>\n",
       "      <th></th>\n",
       "      <th></th>\n",
       "      <th></th>\n",
       "      <th></th>\n",
       "    </tr>\n",
       "  </thead>\n",
       "  <tbody>\n",
       "    <tr>\n",
       "      <th>blues</th>\n",
       "      <td>9</td>\n",
       "      <td>9</td>\n",
       "      <td>Al Green</td>\n",
       "      <td>1</td>\n",
       "      <td>9</td>\n",
       "      <td>9</td>\n",
       "      <td>all_blues</td>\n",
       "      <td>1</td>\n",
       "    </tr>\n",
       "    <tr>\n",
       "      <th>classical</th>\n",
       "      <td>67</td>\n",
       "      <td>49</td>\n",
       "      <td>Strauss</td>\n",
       "      <td>7</td>\n",
       "      <td>67</td>\n",
       "      <td>67</td>\n",
       "      <td>into_the_night</td>\n",
       "      <td>1</td>\n",
       "    </tr>\n",
       "    <tr>\n",
       "      <th>country</th>\n",
       "      <td>10</td>\n",
       "      <td>8</td>\n",
       "      <td>ray</td>\n",
       "      <td>3</td>\n",
       "      <td>10</td>\n",
       "      <td>10</td>\n",
       "      <td>absence_of_the_heart</td>\n",
       "      <td>1</td>\n",
       "    </tr>\n",
       "    <tr>\n",
       "      <th>gospel</th>\n",
       "      <td>15</td>\n",
       "      <td>15</td>\n",
       "      <td>Vivaldi</td>\n",
       "      <td>1</td>\n",
       "      <td>15</td>\n",
       "      <td>15</td>\n",
       "      <td>beautiful_valley_bz2</td>\n",
       "      <td>1</td>\n",
       "    </tr>\n",
       "    <tr>\n",
       "      <th>jazz</th>\n",
       "      <td>238</td>\n",
       "      <td>195</td>\n",
       "      <td>pt</td>\n",
       "      <td>7</td>\n",
       "      <td>238</td>\n",
       "      <td>226</td>\n",
       "      <td>take_five</td>\n",
       "      <td>2</td>\n",
       "    </tr>\n",
       "    <tr>\n",
       "      <th>misc</th>\n",
       "      <td>27</td>\n",
       "      <td>26</td>\n",
       "      <td>1921</td>\n",
       "      <td>2</td>\n",
       "      <td>27</td>\n",
       "      <td>27</td>\n",
       "      <td>hail_chicago</td>\n",
       "      <td>1</td>\n",
       "    </tr>\n",
       "    <tr>\n",
       "      <th>original</th>\n",
       "      <td>4</td>\n",
       "      <td>4</td>\n",
       "      <td>wj bowers</td>\n",
       "      <td>1</td>\n",
       "      <td>4</td>\n",
       "      <td>4</td>\n",
       "      <td>a weekend in paris_ah</td>\n",
       "      <td>1</td>\n",
       "    </tr>\n",
       "    <tr>\n",
       "      <th>poprock</th>\n",
       "      <td>42</td>\n",
       "      <td>39</td>\n",
       "      <td>bz3</td>\n",
       "      <td>2</td>\n",
       "      <td>42</td>\n",
       "      <td>41</td>\n",
       "      <td>some_kind_of_wonderful</td>\n",
       "      <td>2</td>\n",
       "    </tr>\n",
       "    <tr>\n",
       "      <th>ragtime</th>\n",
       "      <td>15</td>\n",
       "      <td>14</td>\n",
       "      <td>1921</td>\n",
       "      <td>2</td>\n",
       "      <td>15</td>\n",
       "      <td>15</td>\n",
       "      <td>in_my_home_town</td>\n",
       "      <td>1</td>\n",
       "    </tr>\n",
       "    <tr>\n",
       "      <th>themes</th>\n",
       "      <td>16</td>\n",
       "      <td>16</td>\n",
       "      <td>50-shades</td>\n",
       "      <td>1</td>\n",
       "      <td>16</td>\n",
       "      <td>15</td>\n",
       "      <td>charade</td>\n",
       "      <td>2</td>\n",
       "    </tr>\n",
       "    <tr>\n",
       "      <th>world</th>\n",
       "      <td>66</td>\n",
       "      <td>56</td>\n",
       "      <td>it</td>\n",
       "      <td>5</td>\n",
       "      <td>66</td>\n",
       "      <td>65</td>\n",
       "      <td>another_woman</td>\n",
       "      <td>2</td>\n",
       "    </tr>\n",
       "  </tbody>\n",
       "</table>\n",
       "</div>"
      ],
      "text/plain": [
       "          artist                         name                                 \\\n",
       "           count unique        top freq count unique                     top   \n",
       "genre                                                                          \n",
       "blues          9      9   Al Green    1     9      9               all_blues   \n",
       "classical     67     49    Strauss    7    67     67          into_the_night   \n",
       "country       10      8        ray    3    10     10    absence_of_the_heart   \n",
       "gospel        15     15    Vivaldi    1    15     15    beautiful_valley_bz2   \n",
       "jazz         238    195         pt    7   238    226               take_five   \n",
       "misc          27     26       1921    2    27     27            hail_chicago   \n",
       "original       4      4  wj bowers    1     4      4   a weekend in paris_ah   \n",
       "poprock       42     39        bz3    2    42     41  some_kind_of_wonderful   \n",
       "ragtime       15     14       1921    2    15     15         in_my_home_town   \n",
       "themes        16     16  50-shades    1    16     15                 charade   \n",
       "world         66     56         it    5    66     65           another_woman   \n",
       "\n",
       "                \n",
       "          freq  \n",
       "genre           \n",
       "blues        1  \n",
       "classical    1  \n",
       "country      1  \n",
       "gospel       1  \n",
       "jazz         2  \n",
       "misc         1  \n",
       "original     1  \n",
       "poprock      2  \n",
       "ragtime      1  \n",
       "themes       2  \n",
       "world        2  "
      ]
     },
     "metadata": {},
     "output_type": "display_data"
    }
   ],
   "source": [
    "display(df2.groupby('genre').describe())\n",
    "# Ultimate considerations regarding this dataset"
   ]
  },
  {
   "cell_type": "markdown",
   "metadata": {},
   "source": [
    "#### Comments\n",
    "One can see that there is no particular overtaking by a specific artists, and that there can still be more cleaning in the artist names because there are many of them not making sense such as the most prominent one for jazz. We will however leave this data as it because for now we need to work with the Ultimate Guitar Dataset and we will use an N-gram matching algorithm for the name matching and it will not necessarily require the artist name to get a meaningful matching.\n",
    "\n",
    "### General comments\n",
    "This dataset is mostly made out of jazz pieces but it provides material from other genres without having some artist being overrepresented. \n",
    "\n",
    "We still have to figure what will be the most relevant way to analyse complexity by using those MIDI files, but we now have a datasetb that is sorted and clean enough to work with."
   ]
  }
 ],
 "metadata": {
  "kernelspec": {
   "display_name": "Python 3",
   "language": "python",
   "name": "python3"
  },
  "language_info": {
   "codemirror_mode": {
    "name": "ipython",
    "version": 3
   },
   "file_extension": ".py",
   "mimetype": "text/x-python",
   "name": "python",
   "nbconvert_exporter": "python",
   "pygments_lexer": "ipython3",
   "version": "3.6.4"
  }
 },
 "nbformat": 4,
 "nbformat_minor": 2
}
